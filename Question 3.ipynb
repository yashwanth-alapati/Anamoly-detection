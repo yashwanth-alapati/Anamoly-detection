{
 "cells": [
  {
   "cell_type": "code",
   "execution_count": 1,
   "id": "041a5727-bd0b-464d-977d-397b98872063",
   "metadata": {},
   "outputs": [
    {
     "name": "stderr",
     "output_type": "stream",
     "text": [
      "Setting default log level to \"WARN\".\n",
      "To adjust logging level use sc.setLogLevel(newLevel). For SparkR, use setLogLevel(newLevel).\n",
      "23/11/13 13:21:58 WARN NativeCodeLoader: Unable to load native-hadoop library for your platform... using builtin-java classes where applicable\n",
      "23/11/13 13:22:00 WARN Utils: Service 'SparkUI' could not bind on port 4040. Attempting port 4041.\n",
      "/opt/conda/envs/bigdata/lib/python3.10/site-packages/pyspark/sql/context.py:158: FutureWarning: Deprecated in 3.0.0. Use SparkSession.builder.getOrCreate() instead.\n",
      "  warnings.warn(\n"
     ]
    }
   ],
   "source": [
    "import os\n",
    "import pyspark\n",
    "conf = pyspark.SparkConf()\n",
    "conf.set('spark.ui.proxyBase', '/user/' + os.environ['JUPYTERHUB_USER'] + '/proxy/4041') \n",
    "conf.set('spark.sql.repl.eagerEval.enabled', True)\n",
    "conf.set('spark.driver.memory','4g')\n",
    "sc = pyspark.SparkContext(conf=conf)\n",
    "spark = pyspark.SQLContext.getOrCreate(sc)"
   ]
  },
  {
   "cell_type": "code",
   "execution_count": 2,
   "id": "d83e9b50-3f54-45b7-a549-049b8b7d6f35",
   "metadata": {
    "tags": []
   },
   "outputs": [],
   "source": [
    "import pyspark.sql.functions as func\n",
    "from pyspark.sql import Window"
   ]
  },
  {
   "cell_type": "code",
   "execution_count": 21,
   "id": "1383a43a-c464-4ebb-9213-4d6f9c750930",
   "metadata": {
    "tags": []
   },
   "outputs": [
    {
     "name": "stderr",
     "output_type": "stream",
     "text": [
      "                                                                                \r"
     ]
    }
   ],
   "source": [
    "#reading the data\n",
    "df = spark.read.option(\"header\", \"true\").option(\"inferSchema\", \"true\").csv(\"shared/midterm/drive_stats_2019_Q1/*.csv\")\n",
    "\n",
    "temp=df\n",
    "\n",
    "#filter the dates from 1-jan-2019 to 28-march-2029\n",
    "temp = temp.withColumn(\"date\", func.to_date(\"date\"))\n",
    "\n",
    "start_date = func.to_date(func.lit(\"2019-01-01\"))\n",
    "\n",
    "end_date = func.to_date(func.lit(\"2019-03-28\"))\n",
    "\n",
    "temp = temp.filter((temp[\"date\"] >= start_date) & (temp[\"date\"] <= end_date))"
   ]
  },
  {
   "cell_type": "code",
   "execution_count": 23,
   "id": "996d1c7b-c61c-4902-9686-c446fdc2d32d",
   "metadata": {
    "tags": []
   },
   "outputs": [
    {
     "name": "stderr",
     "output_type": "stream",
     "text": [
      "                                                                                \r"
     ]
    },
    {
     "data": {
      "text/html": [
       "<table border='1'>\n",
       "<tr><th>model</th><th>failure</th><th>total</th></tr>\n",
       "<tr><td>DELLBOSS VD</td><td>0</td><td>480</td></tr>\n",
       "<tr><td>HGST HDS5C4040ALE630</td><td>0</td><td>3039</td></tr>\n",
       "<tr><td>HGST HMS5C4040ALE640</td><td>2</td><td>305716</td></tr>\n",
       "<tr><td>HGST HMS5C4040BLE640</td><td>11</td><td>1134565</td></tr>\n",
       "<tr><td>HGST HMS5C4040BLE641</td><td>0</td><td>87</td></tr>\n",
       "<tr><td>HGST HUH721010ALE600</td><td>0</td><td>1194</td></tr>\n",
       "<tr><td>HGST HUH721212ALE600</td><td>1</td><td>12480</td></tr>\n",
       "<tr><td>HGST HUH721212ALN604</td><td>4</td><td>245133</td></tr>\n",
       "<tr><td>HGST HUH728080ALE600</td><td>3</td><td>90595</td></tr>\n",
       "<tr><td>HGST HUS726040ALE610</td><td>0</td><td>2514</td></tr>\n",
       "<tr><td>Hitachi HDS5C4040...</td><td>0</td><td>623</td></tr>\n",
       "<tr><td>Hitachi HDS724040...</td><td>0</td><td>29</td></tr>\n",
       "<tr><td>ST10000NM0086</td><td>3</td><td>104946</td></tr>\n",
       "<tr><td>ST1000LM024 HN</td><td>0</td><td>87</td></tr>\n",
       "<tr><td>ST12000NM0007</td><td>178</td><td>2850901</td></tr>\n",
       "<tr><td>ST250LM004 HN</td><td>0</td><td>24</td></tr>\n",
       "<tr><td>ST3160316AS</td><td>0</td><td>42</td></tr>\n",
       "<tr><td>ST3160318AS</td><td>0</td><td>14</td></tr>\n",
       "<tr><td>ST320LT007</td><td>0</td><td>85</td></tr>\n",
       "<tr><td>ST4000DM000</td><td>104</td><td>1930070</td></tr>\n",
       "</table>\n",
       "only showing top 20 rows\n"
      ],
      "text/plain": [
       "+--------------------+-------+-------+\n",
       "|               model|failure|  total|\n",
       "+--------------------+-------+-------+\n",
       "|         DELLBOSS VD|      0|    480|\n",
       "|HGST HDS5C4040ALE630|      0|   3039|\n",
       "|HGST HMS5C4040ALE640|      2| 305716|\n",
       "|HGST HMS5C4040BLE640|     11|1134565|\n",
       "|HGST HMS5C4040BLE641|      0|     87|\n",
       "|HGST HUH721010ALE600|      0|   1194|\n",
       "|HGST HUH721212ALE600|      1|  12480|\n",
       "|HGST HUH721212ALN604|      4| 245133|\n",
       "|HGST HUH728080ALE600|      3|  90595|\n",
       "|HGST HUS726040ALE610|      0|   2514|\n",
       "|Hitachi HDS5C4040...|      0|    623|\n",
       "|Hitachi HDS724040...|      0|     29|\n",
       "|       ST10000NM0086|      3| 104946|\n",
       "|      ST1000LM024 HN|      0|     87|\n",
       "|       ST12000NM0007|    178|2850901|\n",
       "|       ST250LM004 HN|      0|     24|\n",
       "|         ST3160316AS|      0|     42|\n",
       "|         ST3160318AS|      0|     14|\n",
       "|          ST320LT007|      0|     85|\n",
       "|         ST4000DM000|    104|1930070|\n",
       "+--------------------+-------+-------+\n",
       "only showing top 20 rows"
      ]
     },
     "execution_count": 23,
     "metadata": {},
     "output_type": "execute_result"
    }
   ],
   "source": [
    "#create column that has total failures per model\n",
    "temp1 = temp.groupBy(\"model\").agg(func.sum(\"failure\").alias(\"failure\"))\n",
    "#create column that has total number per model\n",
    "temp2= temp.groupBy(\"model\").agg(func.count(\"failure\").alias(\"total\"))\n",
    "#join them to have one single dataframe\n",
    "temp3=temp1.join(temp2, on=\"model\", how=\"full_outer\")\n"
   ]
  },
  {
   "cell_type": "code",
   "execution_count": 27,
   "id": "11f89a57-cbe4-483f-a9ef-4a5bb67f1c68",
   "metadata": {
    "tags": []
   },
   "outputs": [
    {
     "name": "stderr",
     "output_type": "stream",
     "text": [
      "                                                                                \r"
     ]
    },
    {
     "data": {
      "text/html": [
       "<table border='1'>\n",
       "<tr><th>model</th><th>failure</th><th>total</th><th>cumulative</th></tr>\n",
       "<tr><td>DELLBOSS VD</td><td>0</td><td>480</td><td>480</td></tr>\n",
       "<tr><td>HGST HDS5C4040ALE630</td><td>0</td><td>3039</td><td>3039</td></tr>\n",
       "<tr><td>HGST HMS5C4040ALE640</td><td>2</td><td>305716</td><td>305714</td></tr>\n",
       "<tr><td>HGST HMS5C4040BLE640</td><td>11</td><td>1134565</td><td>1134554</td></tr>\n",
       "<tr><td>HGST HMS5C4040BLE641</td><td>0</td><td>87</td><td>87</td></tr>\n",
       "<tr><td>HGST HUH721010ALE600</td><td>0</td><td>1194</td><td>1194</td></tr>\n",
       "<tr><td>HGST HUH721212ALE600</td><td>1</td><td>12480</td><td>12479</td></tr>\n",
       "<tr><td>HGST HUH721212ALN604</td><td>4</td><td>245133</td><td>245129</td></tr>\n",
       "<tr><td>HGST HUH728080ALE600</td><td>3</td><td>90595</td><td>90592</td></tr>\n",
       "<tr><td>HGST HUS726040ALE610</td><td>0</td><td>2514</td><td>2514</td></tr>\n",
       "<tr><td>Hitachi HDS5C4040...</td><td>0</td><td>623</td><td>623</td></tr>\n",
       "<tr><td>Hitachi HDS724040...</td><td>0</td><td>29</td><td>29</td></tr>\n",
       "<tr><td>ST10000NM0086</td><td>3</td><td>104946</td><td>104943</td></tr>\n",
       "<tr><td>ST1000LM024 HN</td><td>0</td><td>87</td><td>87</td></tr>\n",
       "<tr><td>ST12000NM0007</td><td>178</td><td>2850901</td><td>2850723</td></tr>\n",
       "<tr><td>ST250LM004 HN</td><td>0</td><td>24</td><td>24</td></tr>\n",
       "<tr><td>ST3160316AS</td><td>0</td><td>42</td><td>42</td></tr>\n",
       "<tr><td>ST3160318AS</td><td>0</td><td>14</td><td>14</td></tr>\n",
       "<tr><td>ST320LT007</td><td>0</td><td>85</td><td>85</td></tr>\n",
       "<tr><td>ST4000DM000</td><td>104</td><td>1930070</td><td>1929966</td></tr>\n",
       "</table>\n",
       "only showing top 20 rows\n"
      ],
      "text/plain": [
       "+--------------------+-------+-------+----------+\n",
       "|               model|failure|  total|cumulative|\n",
       "+--------------------+-------+-------+----------+\n",
       "|         DELLBOSS VD|      0|    480|       480|\n",
       "|HGST HDS5C4040ALE630|      0|   3039|      3039|\n",
       "|HGST HMS5C4040ALE640|      2| 305716|    305714|\n",
       "|HGST HMS5C4040BLE640|     11|1134565|   1134554|\n",
       "|HGST HMS5C4040BLE641|      0|     87|        87|\n",
       "|HGST HUH721010ALE600|      0|   1194|      1194|\n",
       "|HGST HUH721212ALE600|      1|  12480|     12479|\n",
       "|HGST HUH721212ALN604|      4| 245133|    245129|\n",
       "|HGST HUH728080ALE600|      3|  90595|     90592|\n",
       "|HGST HUS726040ALE610|      0|   2514|      2514|\n",
       "|Hitachi HDS5C4040...|      0|    623|       623|\n",
       "|Hitachi HDS724040...|      0|     29|        29|\n",
       "|       ST10000NM0086|      3| 104946|    104943|\n",
       "|      ST1000LM024 HN|      0|     87|        87|\n",
       "|       ST12000NM0007|    178|2850901|   2850723|\n",
       "|       ST250LM004 HN|      0|     24|        24|\n",
       "|         ST3160316AS|      0|     42|        42|\n",
       "|         ST3160318AS|      0|     14|        14|\n",
       "|          ST320LT007|      0|     85|        85|\n",
       "|         ST4000DM000|    104|1930070|   1929966|\n",
       "+--------------------+-------+-------+----------+\n",
       "only showing top 20 rows"
      ]
     },
     "execution_count": 27,
     "metadata": {},
     "output_type": "execute_result"
    }
   ],
   "source": [
    "#find the cumulative days of working which is nothing but the 0 count in failure column\n",
    "#we get that by subtracting failure from total\n",
    "temp3=temp3.withColumn(\"cumulative\",temp3[\"total\"]-temp3[\"failure\"])\n",
    "temp3"
   ]
  },
  {
   "cell_type": "code",
   "execution_count": 30,
   "id": "0071ba9d-feac-4754-8a2a-54abf8ff4397",
   "metadata": {
    "tags": []
   },
   "outputs": [],
   "source": [
    "#create a udf to find the R value for each model\n",
    "from pyspark.sql.functions import udf\n",
    "from pyspark.sql.types import DoubleType\n",
    "\n",
    "@udf(DoubleType())\n",
    "def R_calc(cumulative,fail):\n",
    "    D=87\n",
    "    R=100.0*((1.0*fail)/(cumulative/D))\n",
    "    return(R)\n",
    "temp3 = temp3.withColumn(\"R_value\", R_calc(temp3[\"cumulative\"],temp3[\"failure\"]))"
   ]
  },
  {
   "cell_type": "code",
   "execution_count": 31,
   "id": "7329b0f0-2513-4dae-9a6b-800d6586f360",
   "metadata": {
    "tags": []
   },
   "outputs": [
    {
     "name": "stderr",
     "output_type": "stream",
     "text": [
      "                                                                                \r"
     ]
    },
    {
     "data": {
      "text/html": [
       "<table border='1'>\n",
       "<tr><th>model</th><th>failure</th><th>total</th><th>cumulative</th><th>R_value</th></tr>\n",
       "<tr><td>DELLBOSS VD</td><td>0</td><td>480</td><td>480</td><td>0.0</td></tr>\n",
       "<tr><td>HGST HDS5C4040ALE630</td><td>0</td><td>3039</td><td>3039</td><td>0.0</td></tr>\n",
       "<tr><td>HGST HMS5C4040ALE640</td><td>2</td><td>305716</td><td>305714</td><td>0.05691594104293556</td></tr>\n",
       "<tr><td>HGST HMS5C4040BLE640</td><td>11</td><td>1134565</td><td>1134554</td><td>0.08435032620747888</td></tr>\n",
       "<tr><td>HGST HMS5C4040BLE641</td><td>0</td><td>87</td><td>87</td><td>0.0</td></tr>\n",
       "<tr><td>HGST HUH721010ALE600</td><td>0</td><td>1194</td><td>1194</td><td>0.0</td></tr>\n",
       "<tr><td>HGST HUH721212ALE600</td><td>1</td><td>12480</td><td>12479</td><td>0.6971712476961295</td></tr>\n",
       "<tr><td>HGST HUH721212ALN604</td><td>4</td><td>245133</td><td>245129</td><td>0.14196606684643595</td></tr>\n",
       "<tr><td>HGST HUH728080ALE600</td><td>3</td><td>90595</td><td>90592</td><td>0.2881049099258213</td></tr>\n",
       "<tr><td>HGST HUS726040ALE610</td><td>0</td><td>2514</td><td>2514</td><td>0.0</td></tr>\n",
       "<tr><td>Hitachi HDS5C4040...</td><td>0</td><td>623</td><td>623</td><td>0.0</td></tr>\n",
       "<tr><td>Hitachi HDS724040...</td><td>0</td><td>29</td><td>29</td><td>0.0</td></tr>\n",
       "<tr><td>ST10000NM0086</td><td>3</td><td>104946</td><td>104943</td><td>0.24870644063920413</td></tr>\n",
       "<tr><td>ST1000LM024 HN</td><td>0</td><td>87</td><td>87</td><td>0.0</td></tr>\n",
       "<tr><td>ST12000NM0007</td><td>178</td><td>2850901</td><td>2850723</td><td>0.5432306120236866</td></tr>\n",
       "<tr><td>ST250LM004 HN</td><td>0</td><td>24</td><td>24</td><td>0.0</td></tr>\n",
       "<tr><td>ST3160316AS</td><td>0</td><td>42</td><td>42</td><td>0.0</td></tr>\n",
       "<tr><td>ST3160318AS</td><td>0</td><td>14</td><td>14</td><td>0.0</td></tr>\n",
       "<tr><td>ST320LT007</td><td>0</td><td>85</td><td>85</td><td>0.0</td></tr>\n",
       "<tr><td>ST4000DM000</td><td>104</td><td>1930070</td><td>1929966</td><td>0.46881654909982867</td></tr>\n",
       "</table>\n",
       "only showing top 20 rows\n"
      ],
      "text/plain": [
       "+--------------------+-------+-------+----------+-------------------+\n",
       "|               model|failure|  total|cumulative|            R_value|\n",
       "+--------------------+-------+-------+----------+-------------------+\n",
       "|         DELLBOSS VD|      0|    480|       480|                0.0|\n",
       "|HGST HDS5C4040ALE630|      0|   3039|      3039|                0.0|\n",
       "|HGST HMS5C4040ALE640|      2| 305716|    305714|0.05691594104293556|\n",
       "|HGST HMS5C4040BLE640|     11|1134565|   1134554|0.08435032620747888|\n",
       "|HGST HMS5C4040BLE641|      0|     87|        87|                0.0|\n",
       "|HGST HUH721010ALE600|      0|   1194|      1194|                0.0|\n",
       "|HGST HUH721212ALE600|      1|  12480|     12479| 0.6971712476961295|\n",
       "|HGST HUH721212ALN604|      4| 245133|    245129|0.14196606684643595|\n",
       "|HGST HUH728080ALE600|      3|  90595|     90592| 0.2881049099258213|\n",
       "|HGST HUS726040ALE610|      0|   2514|      2514|                0.0|\n",
       "|Hitachi HDS5C4040...|      0|    623|       623|                0.0|\n",
       "|Hitachi HDS724040...|      0|     29|        29|                0.0|\n",
       "|       ST10000NM0086|      3| 104946|    104943|0.24870644063920413|\n",
       "|      ST1000LM024 HN|      0|     87|        87|                0.0|\n",
       "|       ST12000NM0007|    178|2850901|   2850723| 0.5432306120236866|\n",
       "|       ST250LM004 HN|      0|     24|        24|                0.0|\n",
       "|         ST3160316AS|      0|     42|        42|                0.0|\n",
       "|         ST3160318AS|      0|     14|        14|                0.0|\n",
       "|          ST320LT007|      0|     85|        85|                0.0|\n",
       "|         ST4000DM000|    104|1930070|   1929966|0.46881654909982867|\n",
       "+--------------------+-------+-------+----------+-------------------+\n",
       "only showing top 20 rows"
      ]
     },
     "execution_count": 31,
     "metadata": {},
     "output_type": "execute_result"
    }
   ],
   "source": [
    "temp3"
   ]
  },
  {
   "cell_type": "code",
   "execution_count": 35,
   "id": "240689bc-a352-4c35-9b0e-cc84c6c48e96",
   "metadata": {
    "tags": []
   },
   "outputs": [
    {
     "name": "stderr",
     "output_type": "stream",
     "text": [
      "                                                                                \r"
     ]
    },
    {
     "data": {
      "text/html": [
       "<table border='1'>\n",
       "<tr><th>summary</th><th>model</th><th>failure</th><th>total</th><th>cumulative</th><th>R_value</th></tr>\n",
       "<tr><td>count</td><td>49</td><td>49</td><td>49</td><td>49</td><td>49</td></tr>\n",
       "<tr><td>mean</td><td>NULL</td><td>8.89795918367347</td><td>188931.4693877551</td><td>188922.57142857142</td><td>1.0637228434381965</td></tr>\n",
       "<tr><td>stddev</td><td>NULL</td><td>30.021690004866468</td><td>538200.5515609826</td><td>538171.9689615177</td><td>4.780507362375505</td></tr>\n",
       "<tr><td>min</td><td>DELLBOSS VD</td><td>0</td><td>3</td><td>3</td><td>0.0</td></tr>\n",
       "<tr><td>max</td><td>WDC WD60EFRX</td><td>178</td><td>2850901</td><td>2850723</td><td>33.07984790874524</td></tr>\n",
       "</table>\n"
      ],
      "text/plain": [
       "+-------+------------+------------------+-----------------+------------------+------------------+\n",
       "|summary|       model|           failure|            total|        cumulative|           R_value|\n",
       "+-------+------------+------------------+-----------------+------------------+------------------+\n",
       "|  count|          49|                49|               49|                49|                49|\n",
       "|   mean|        NULL|  8.89795918367347|188931.4693877551|188922.57142857142|1.0637228434381965|\n",
       "| stddev|        NULL|30.021690004866468|538200.5515609826| 538171.9689615177| 4.780507362375505|\n",
       "|    min| DELLBOSS VD|                 0|                3|                 3|               0.0|\n",
       "|    max|WDC WD60EFRX|               178|          2850901|           2850723| 33.07984790874524|\n",
       "+-------+------------+------------------+-----------------+------------------+------------------+"
      ]
     },
     "execution_count": 35,
     "metadata": {},
     "output_type": "execute_result"
    }
   ],
   "source": [
    "temp3.describe()"
   ]
  },
  {
   "cell_type": "code",
   "execution_count": null,
   "id": "d51951a7-6031-4f58-ac74-ffd10a2bd57f",
   "metadata": {},
   "outputs": [],
   "source": []
  },
  {
   "cell_type": "code",
   "execution_count": 40,
   "id": "25a3e6fc-4773-4dd4-b312-815a576c39c0",
   "metadata": {
    "tags": []
   },
   "outputs": [],
   "source": [
    "#Find the mean and standard deviation\n",
    "R_mean=1.0637228434381965\n",
    "R_stddev=4.780507362375505\n",
    "#comp is the value we have to compare with M+1S\n",
    "comp=R_mean+R_stddev"
   ]
  },
  {
   "cell_type": "code",
   "execution_count": 43,
   "id": "acd1f379-5589-4cb5-b5a1-d4518b7d6fee",
   "metadata": {
    "tags": []
   },
   "outputs": [
    {
     "name": "stderr",
     "output_type": "stream",
     "text": [
      "                                                                                \r"
     ]
    },
    {
     "data": {
      "text/html": [
       "<table border='1'>\n",
       "<tr><th>model</th><th>failure</th><th>total</th><th>cumulative</th><th>R_value</th></tr>\n",
       "<tr><td>ST8000DM004</td><td>1</td><td>264</td><td>263</td><td>33.07984790874524</td></tr>\n",
       "</table>\n"
      ],
      "text/plain": [
       "+-----------+-------+-----+----------+-----------------+\n",
       "|      model|failure|total|cumulative|          R_value|\n",
       "+-----------+-------+-----+----------+-----------------+\n",
       "|ST8000DM004|      1|  264|       263|33.07984790874524|\n",
       "+-----------+-------+-----+----------+-----------------+"
      ]
     },
     "execution_count": 43,
     "metadata": {},
     "output_type": "execute_result"
    }
   ],
   "source": [
    "#find the models that are outlier or anamolous\n",
    "temp4=temp3.filter(temp3['R_value']>comp)\n",
    "temp4"
   ]
  },
  {
   "cell_type": "code",
   "execution_count": 44,
   "id": "41bd063c-33c9-42d0-a7f9-52de2d306b1a",
   "metadata": {
    "tags": []
   },
   "outputs": [],
   "source": [
    "#find the models on 29-march-2019 \n",
    "date = func.to_date(func.lit(\"2019-03-29\"))\n",
    "new_df = df.filter((df[\"date\"] == date))\n",
    "\n",
    "# join them with the temp4 to get the models that are predicted to fail\n",
    "result_df = new_df.join(temp4, on=\"model\", how=\"inner\")"
   ]
  },
  {
   "cell_type": "code",
   "execution_count": 46,
   "id": "14454107-29c4-4ea4-bf3e-198f6f0c433d",
   "metadata": {
    "tags": []
   },
   "outputs": [
    {
     "name": "stderr",
     "output_type": "stream",
     "text": [
      "                                                                                \r"
     ]
    },
    {
     "data": {
      "text/html": [
       "<table border='1'>\n",
       "<tr><th>serial_number</th><th>model</th></tr>\n",
       "<tr><td>WCT0EJDJ</td><td>ST8000DM004</td></tr>\n",
       "<tr><td>WCT0EKW3</td><td>ST8000DM004</td></tr>\n",
       "<tr><td>WCT0EJY6</td><td>ST8000DM004</td></tr>\n",
       "</table>\n"
      ],
      "text/plain": [
       "+-------------+-----------+\n",
       "|serial_number|      model|\n",
       "+-------------+-----------+\n",
       "|     WCT0EJDJ|ST8000DM004|\n",
       "|     WCT0EKW3|ST8000DM004|\n",
       "|     WCT0EJY6|ST8000DM004|\n",
       "+-------------+-----------+"
      ]
     },
     "execution_count": 46,
     "metadata": {},
     "output_type": "execute_result"
    }
   ],
   "source": [
    "#selectin only serial number and model columns for easier reading\n",
    "result_df=result_df.select(\"serial_number\",\"model\")\n",
    "result_df"
   ]
  },
  {
   "cell_type": "code",
   "execution_count": null,
   "id": "44f741bf-3066-4a64-8f41-99c1e7e40359",
   "metadata": {},
   "outputs": [],
   "source": []
  }
 ],
 "metadata": {
  "kernelspec": {
   "display_name": "Python [conda env:bigdata]",
   "language": "python",
   "name": "conda-env-bigdata-py"
  },
  "language_info": {
   "codemirror_mode": {
    "name": "ipython",
    "version": 3
   },
   "file_extension": ".py",
   "mimetype": "text/x-python",
   "name": "python",
   "nbconvert_exporter": "python",
   "pygments_lexer": "ipython3",
   "version": "3.10.12"
  }
 },
 "nbformat": 4,
 "nbformat_minor": 5
}
